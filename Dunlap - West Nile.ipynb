{
 "cells": [
  {
   "cell_type": "code",
   "execution_count": 461,
   "metadata": {
    "collapsed": true
   },
   "outputs": [],
   "source": [
    "import pandas as pd\n",
    "import numpy as np\n",
    "from sklearn.linear_model import LogisticRegression\n",
    "from sklearn.cross_validation import StratifiedKFold\n",
    "from sklearn.cross_validation import cross_val_score\n",
    "from sklearn.ensemble import GradientBoostingClassifier, RandomForestClassifier"
   ]
  },
  {
   "cell_type": "code",
   "execution_count": 508,
   "metadata": {
    "collapsed": true
   },
   "outputs": [],
   "source": [
    "test = pd.read_csv('./assets/test.csv')\n",
    "train = pd.read_csv('./assets/train.csv')\n",
    "spray = pd.read_csv('./assets/spray.csv')\n",
    "weather = pd.read_csv('./assets/weather_clean.csv')"
   ]
  },
  {
   "cell_type": "code",
   "execution_count": 419,
   "metadata": {
    "collapsed": false,
    "scrolled": true
   },
   "outputs": [],
   "source": [
    "def split_date(df):\n",
    "    df.Date = pd.to_datetime(df.Date)\n",
    "    df['year'] = df.Date.dt.year\n",
    "    df['month'] = df.Date.dt.month\n",
    "    df['day'] = df.Date.dt.day\n",
    "    df['week'] = df.Date.dt.week\n",
    "    df.Date = df.Date.dt.date\n",
    "    return df\n",
    "\n",
    "def trap_bias(df):\n",
    "    form = lambda x: np.sum(x)/float(x.count())*100\n",
    "    transformed = df[['Trap','WnvPresent']].groupby('Trap').agg(form)\n",
    "    return transformed.reset_index().rename(columns={'WnvPresent':'Bias'})\n",
    "\n",
    "def misq_leakage(df):\n",
    "    grouped = df[['Date','Trap','Address']].groupby(['Date','Trap'])[['Address']].count()\n",
    "    grouped = grouped.reset_index().rename(columns={'Address':'MCount'})\n",
    "    return grouped\n",
    "\n",
    "def GetDummies(df):   \n",
    "    dummies=pd.get_dummies(df['Species'])\n",
    "    df = pd.concat([df, dummies], axis=1)\n",
    "    return df  \n",
    "\n",
    "def clean_weather(df):\n",
    "    filter_out = ['Heat', 'CodeSum', 'Depth', 'SnowFall', 'StnPressure',  'SeaLevel', 'AvgSpeed','Sunrise','Sunset']\n",
    "    df.drop(filter_out, axis=1, inplace=True)\n",
    "    df.Date = pd.to_datetime(df.Date)\n",
    "    df.Date = df.Date.dt.date\n",
    "    return df\n",
    "\n",
    "def MergeWeather(df1, df2):\n",
    "    df = df1.merge(df2[df2['Station']==1], on='Date', how=\"left\",  left_index=True)\n",
    "    return df \n",
    "\n",
    "def MergeBias(df1, df2):\n",
    "    df = df1.merge(df2, on='Trap', how=\"left\",  left_index=True)\n",
    "    return df\n",
    "\n",
    "def MergeML(df1, df2):\n",
    "    df = df1.merge(df2, on=['Date','Trap'], how=\"left\",  left_index=True)\n",
    "    return df\n",
    "\n",
    "def drop_train_cols(df):\n",
    "    train_filt = ['Date','Address','Street','Trap','AddressNumberAndStreet','AddressAccuracy','Species','Block']\n",
    "    df.drop(train_filt, axis=1, inplace=True)\n",
    "    return df\n",
    "\n",
    "def transform_data(train,test,weather):\n",
    "    train = split_date(train)\n",
    "    bias = trap_bias(train)\n",
    "    ml = misq_leakage(train)\n",
    "    train = GetDummies(train)\n",
    "    weather = clean_weather(weather)\n",
    "    train = MergeWeather(train,weather)\n",
    "    train = MergeBias(train,bias)\n",
    "    train = MergeML(train,ml)\n",
    "    train = drop_train_cols(train)\n",
    "\n",
    "    test = split_date(test)\n",
    "    ml = misq_leakage(test)\n",
    "    test = GetDummies(test)\n",
    "    test = MergeWeather(test,weather)\n",
    "    test = MergeBias(test,bias)\n",
    "    test = MergeML(test,ml)\n",
    "    test = drop_train_cols(test)\n",
    "    return train, test"
   ]
  },
  {
   "cell_type": "code",
   "execution_count": 509,
   "metadata": {
    "collapsed": false
   },
   "outputs": [],
   "source": [
    "Xtrain, Xtest= transform_data(train,test,weather)"
   ]
  },
  {
   "cell_type": "code",
   "execution_count": 472,
   "metadata": {
    "collapsed": false
   },
   "outputs": [],
   "source": [
    "filt_y = ['WnvPresent','NumMosquitos']\n",
    "Xtr = Xtrain.drop(filt_y, axis=1)\n",
    "ytr = train['WnvPresent']"
   ]
  },
  {
   "cell_type": "code",
   "execution_count": 424,
   "metadata": {
    "collapsed": false
   },
   "outputs": [
    {
     "name": "stdout",
     "output_type": "stream",
     "text": [
      "0.948220064725\n",
      "0.947553778793\n"
     ]
    }
   ],
   "source": [
    "lr = LogisticRegression()\n",
    "lr.fit(Xtr,ytr)\n",
    "print lr.score(Xtr,ytr)\n",
    "print 1-np.mean(y)"
   ]
  },
  {
   "cell_type": "code",
   "execution_count": 463,
   "metadata": {
    "collapsed": false
   },
   "outputs": [
    {
     "name": "stdout",
     "output_type": "stream",
     "text": [
      "0.949647820293\n"
     ]
    }
   ],
   "source": [
    "gb = GradientBoostingClassifier()\n",
    "gb.fit(Xtr,ytr)\n",
    "print gb.score(Xtr,ytr)"
   ]
  },
  {
   "cell_type": "code",
   "execution_count": 473,
   "metadata": {
    "collapsed": false
   },
   "outputs": [
    {
     "name": "stdout",
     "output_type": "stream",
     "text": [
      "0.976679992385\n"
     ]
    }
   ],
   "source": [
    "rf = RandomForestClassifier()\n",
    "rf.fit(Xtr, ytr)\n",
    "print rf.score(Xtr,ytr)\n",
    "predict = rf.predict(Xtst)"
   ]
  },
  {
   "cell_type": "code",
   "execution_count": 449,
   "metadata": {
    "collapsed": false
   },
   "outputs": [],
   "source": [
    "predict = lr.predict(Xtst)"
   ]
  },
  {
   "cell_type": "code",
   "execution_count": 474,
   "metadata": {
    "collapsed": false
   },
   "outputs": [],
   "source": [
    "Xtest['prediction'] = predict\n",
    "Xtest.rename(columns={'prediction':'WnvPresent'},inplace=True)\n",
    "Xtest[['Id','WnvPresent']].to_csv('kaggle_answers.csv', index=False)"
   ]
  },
  {
   "cell_type": "code",
   "execution_count": 475,
   "metadata": {
    "collapsed": false
   },
   "outputs": [],
   "source": [
    "Xtest.rename(columns={'prediction':'WnvPresent'},inplace=True)"
   ]
  },
  {
   "cell_type": "code",
   "execution_count": 476,
   "metadata": {
    "collapsed": false
   },
   "outputs": [],
   "source": [
    "Xtest[['Id','WnvPresent']].to_csv('kaggle_answers.csv', index=False)"
   ]
  },
  {
   "cell_type": "code",
   "execution_count": null,
   "metadata": {
    "collapsed": false
   },
   "outputs": [],
   "source": [
    "spray_dates = spray.Date.unique()\n",
    "\n",
    "test2 = test.head()\n",
    "for date in spray_dates:\n",
    "    test2[date] = 0\n",
    "    \n",
    "for i in test2.index:\n",
    "    print i\n"
   ]
  },
  {
   "cell_type": "code",
   "execution_count": 500,
   "metadata": {
    "collapsed": false
   },
   "outputs": [],
   "source": [
    "xnp = Xtr.values\n",
    "ynp = ytr.values"
   ]
  },
  {
   "cell_type": "code",
   "execution_count": 531,
   "metadata": {
    "collapsed": false
   },
   "outputs": [
    {
     "name": "stdout",
     "output_type": "stream",
     "text": [
      "Epoch 1/100\n",
      "10506/10506 [==============================] - 4s - loss: 0.2170 - acc: 0.9475     \n",
      "Epoch 2/100\n",
      "10506/10506 [==============================] - 3s - loss: 0.2054 - acc: 0.9476     \n",
      "Epoch 3/100\n",
      "10506/10506 [==============================] - 4s - loss: 0.2027 - acc: 0.9476     \n",
      "Epoch 4/100\n",
      "10506/10506 [==============================] - 4s - loss: 0.2018 - acc: 0.9476     \n",
      "Epoch 5/100\n",
      "10506/10506 [==============================] - 3s - loss: 0.1984 - acc: 0.9476     \n",
      "Epoch 6/100\n",
      "10506/10506 [==============================] - 3s - loss: 0.1973 - acc: 0.9476     \n",
      "Epoch 7/100\n",
      "10506/10506 [==============================] - 4s - loss: 0.1943 - acc: 0.9476     \n",
      "Epoch 8/100\n",
      "10506/10506 [==============================] - 4s - loss: 0.1947 - acc: 0.9476     \n",
      "Epoch 9/100\n",
      "10506/10506 [==============================] - 4s - loss: 0.1948 - acc: 0.9476     \n",
      "Epoch 10/100\n",
      "10506/10506 [==============================] - 4s - loss: 0.1921 - acc: 0.9476     \n",
      "Epoch 11/100\n",
      "10506/10506 [==============================] - 4s - loss: 0.1906 - acc: 0.9476     \n",
      "Epoch 12/100\n",
      "10506/10506 [==============================] - 4s - loss: 0.1896 - acc: 0.9476     \n",
      "Epoch 13/100\n",
      "10506/10506 [==============================] - 4s - loss: 0.1882 - acc: 0.9476     \n",
      "Epoch 14/100\n",
      "10506/10506 [==============================] - 4s - loss: 0.1881 - acc: 0.9476     \n",
      "Epoch 15/100\n",
      "10506/10506 [==============================] - 4s - loss: 0.1874 - acc: 0.9476     \n",
      "Epoch 16/100\n",
      "10506/10506 [==============================] - 4s - loss: 0.1873 - acc: 0.9476     \n",
      "Epoch 17/100\n",
      "10506/10506 [==============================] - 4s - loss: 0.1873 - acc: 0.9476     \n",
      "Epoch 18/100\n",
      "10506/10506 [==============================] - 4s - loss: 0.1845 - acc: 0.9476     \n",
      "Epoch 19/100\n",
      "10506/10506 [==============================] - 4s - loss: 0.1850 - acc: 0.9476     \n",
      "Epoch 20/100\n",
      "10506/10506 [==============================] - 4s - loss: 0.1848 - acc: 0.9476     \n",
      "Epoch 21/100\n",
      "10506/10506 [==============================] - 4s - loss: 0.1826 - acc: 0.9476     \n",
      "Epoch 22/100\n",
      "10506/10506 [==============================] - 4s - loss: 0.1852 - acc: 0.9476     \n",
      "Epoch 23/100\n",
      "10506/10506 [==============================] - 4s - loss: 0.1833 - acc: 0.9476     \n",
      "Epoch 24/100\n",
      "10506/10506 [==============================] - 4s - loss: 0.1836 - acc: 0.9476     \n",
      "Epoch 25/100\n",
      "10506/10506 [==============================] - 4s - loss: 0.1831 - acc: 0.9476     \n",
      "Epoch 26/100\n",
      "10506/10506 [==============================] - 4s - loss: 0.1817 - acc: 0.9476     \n",
      "Epoch 27/100\n",
      "10506/10506 [==============================] - 4s - loss: 0.1833 - acc: 0.9476     \n",
      "Epoch 28/100\n",
      "10506/10506 [==============================] - 4s - loss: 0.1825 - acc: 0.9476     \n",
      "Epoch 29/100\n",
      "10506/10506 [==============================] - 4s - loss: 0.1812 - acc: 0.9476     \n",
      "Epoch 30/100\n",
      "10506/10506 [==============================] - 4s - loss: 0.1801 - acc: 0.9476     \n",
      "Epoch 31/100\n",
      "10506/10506 [==============================] - 4s - loss: 0.1827 - acc: 0.9476     \n",
      "Epoch 32/100\n",
      "10506/10506 [==============================] - 4s - loss: 0.1809 - acc: 0.9476     \n",
      "Epoch 33/100\n",
      "10506/10506 [==============================] - 4s - loss: 0.1809 - acc: 0.9476     \n",
      "Epoch 34/100\n",
      "10506/10506 [==============================] - 4s - loss: 0.1807 - acc: 0.9476     \n",
      "Epoch 35/100\n",
      "10506/10506 [==============================] - 4s - loss: 0.1803 - acc: 0.9476     \n",
      "Epoch 36/100\n",
      "10506/10506 [==============================] - 4s - loss: 0.1815 - acc: 0.9476     \n",
      "Epoch 37/100\n",
      "10506/10506 [==============================] - 4s - loss: 0.1800 - acc: 0.9476     \n",
      "Epoch 38/100\n",
      "10506/10506 [==============================] - 4s - loss: 0.1794 - acc: 0.9476     \n",
      "Epoch 39/100\n",
      "10506/10506 [==============================] - 4s - loss: 0.1796 - acc: 0.9476     \n",
      "Epoch 40/100\n",
      "10506/10506 [==============================] - 3s - loss: 0.1780 - acc: 0.9476     \n",
      "Epoch 41/100\n",
      "10506/10506 [==============================] - 3s - loss: 0.1787 - acc: 0.9476     \n",
      "Epoch 42/100\n",
      "10506/10506 [==============================] - 4s - loss: 0.1788 - acc: 0.9476     \n",
      "Epoch 43/100\n",
      "10506/10506 [==============================] - 3s - loss: 0.1779 - acc: 0.9476     \n",
      "Epoch 44/100\n",
      "10506/10506 [==============================] - 3s - loss: 0.1795 - acc: 0.9476     \n",
      "Epoch 45/100\n",
      "10506/10506 [==============================] - 4s - loss: 0.1773 - acc: 0.9476     \n",
      "Epoch 46/100\n",
      "10506/10506 [==============================] - 3s - loss: 0.1787 - acc: 0.9476     \n",
      "Epoch 47/100\n",
      "10506/10506 [==============================] - 3s - loss: 0.1788 - acc: 0.9476     \n",
      "Epoch 48/100\n",
      "10506/10506 [==============================] - 3s - loss: 0.1794 - acc: 0.9476     \n",
      "Epoch 49/100\n",
      "10506/10506 [==============================] - 3s - loss: 0.1785 - acc: 0.9476     \n",
      "Epoch 50/100\n",
      "10506/10506 [==============================] - 3s - loss: 0.1773 - acc: 0.9476     \n",
      "Epoch 51/100\n",
      "10506/10506 [==============================] - 3s - loss: 0.1768 - acc: 0.9476     \n",
      "Epoch 52/100\n",
      "10506/10506 [==============================] - 3s - loss: 0.1768 - acc: 0.9476     \n",
      "Epoch 53/100\n",
      "10506/10506 [==============================] - 3s - loss: 0.1772 - acc: 0.9476     \n",
      "Epoch 54/100\n",
      "10506/10506 [==============================] - 3s - loss: 0.1757 - acc: 0.9476     \n",
      "Epoch 55/100\n",
      "10506/10506 [==============================] - 3s - loss: 0.1775 - acc: 0.9476     \n",
      "Epoch 56/100\n",
      "10506/10506 [==============================] - 3s - loss: 0.1779 - acc: 0.9476     \n",
      "Epoch 57/100\n",
      "10506/10506 [==============================] - 3s - loss: 0.1766 - acc: 0.9476     \n",
      "Epoch 58/100\n",
      "10506/10506 [==============================] - 3s - loss: 0.1760 - acc: 0.9476     \n",
      "Epoch 59/100\n",
      "10506/10506 [==============================] - 3s - loss: 0.1792 - acc: 0.9476     \n",
      "Epoch 60/100\n",
      "10506/10506 [==============================] - 3s - loss: 0.1761 - acc: 0.9476     \n",
      "Epoch 61/100\n",
      "10506/10506 [==============================] - 3s - loss: 0.1777 - acc: 0.9476     \n",
      "Epoch 62/100\n",
      "10506/10506 [==============================] - 3s - loss: 0.1768 - acc: 0.9476     \n",
      "Epoch 63/100\n",
      "10506/10506 [==============================] - 3s - loss: 0.1773 - acc: 0.9476     \n",
      "Epoch 64/100\n",
      "10506/10506 [==============================] - 3s - loss: 0.1778 - acc: 0.9476     \n",
      "Epoch 65/100\n",
      "10506/10506 [==============================] - 3s - loss: 0.1761 - acc: 0.9476     \n",
      "Epoch 66/100\n",
      "10506/10506 [==============================] - 3s - loss: 0.1770 - acc: 0.9476     \n",
      "Epoch 67/100\n",
      "10506/10506 [==============================] - 3s - loss: 0.1757 - acc: 0.9476     \n",
      "Epoch 68/100\n",
      "10506/10506 [==============================] - 3s - loss: 0.1761 - acc: 0.9476     \n",
      "Epoch 69/100\n",
      "10506/10506 [==============================] - 3s - loss: 0.1753 - acc: 0.9476     \n",
      "Epoch 70/100\n",
      "10506/10506 [==============================] - 3s - loss: 0.1757 - acc: 0.9476     \n",
      "Epoch 71/100\n",
      "10506/10506 [==============================] - 3s - loss: 0.1758 - acc: 0.9476     \n",
      "Epoch 72/100\n",
      "10506/10506 [==============================] - 3s - loss: 0.1741 - acc: 0.9476     \n",
      "Epoch 73/100\n",
      "10506/10506 [==============================] - 4s - loss: 0.1754 - acc: 0.9476     \n",
      "Epoch 74/100\n",
      "10506/10506 [==============================] - 4s - loss: 0.1753 - acc: 0.9476     \n",
      "Epoch 75/100\n",
      "10506/10506 [==============================] - 4s - loss: 0.1755 - acc: 0.9476     \n",
      "Epoch 76/100\n",
      "10506/10506 [==============================] - 3s - loss: 0.1743 - acc: 0.9476     \n",
      "Epoch 77/100\n",
      "10506/10506 [==============================] - 4s - loss: 0.1747 - acc: 0.9476     \n",
      "Epoch 78/100\n",
      "10506/10506 [==============================] - 4s - loss: 0.1748 - acc: 0.9476     \n",
      "Epoch 79/100\n",
      "10506/10506 [==============================] - 3s - loss: 0.1745 - acc: 0.9476     \n",
      "Epoch 80/100\n",
      "10506/10506 [==============================] - 3s - loss: 0.1739 - acc: 0.9476     \n",
      "Epoch 81/100\n",
      "10506/10506 [==============================] - 3s - loss: 0.1733 - acc: 0.9476     \n",
      "Epoch 82/100\n",
      "10506/10506 [==============================] - 3s - loss: 0.1741 - acc: 0.9476     \n",
      "Epoch 83/100\n",
      "10506/10506 [==============================] - 3s - loss: 0.1744 - acc: 0.9476     \n",
      "Epoch 84/100\n",
      "10506/10506 [==============================] - 5s - loss: 0.1743 - acc: 0.9476     \n",
      "Epoch 85/100\n",
      "10506/10506 [==============================] - 4s - loss: 0.1730 - acc: 0.9476     \n",
      "Epoch 86/100\n",
      "10506/10506 [==============================] - 4s - loss: 0.1730 - acc: 0.9476     \n",
      "Epoch 87/100\n",
      "10506/10506 [==============================] - 4s - loss: 0.1742 - acc: 0.9476     \n",
      "Epoch 88/100\n",
      "10506/10506 [==============================] - 3s - loss: 0.1752 - acc: 0.9476     \n",
      "Epoch 89/100\n",
      "10506/10506 [==============================] - 4s - loss: 0.1757 - acc: 0.9476     \n",
      "Epoch 90/100\n",
      "10506/10506 [==============================] - 3s - loss: 0.1733 - acc: 0.9476     \n",
      "Epoch 91/100\n",
      "10506/10506 [==============================] - 4s - loss: 0.1744 - acc: 0.9476     \n",
      "Epoch 92/100\n",
      "10506/10506 [==============================] - 3s - loss: 0.1729 - acc: 0.9476     \n",
      "Epoch 93/100\n",
      "10506/10506 [==============================] - 3s - loss: 0.1737 - acc: 0.9476     \n",
      "Epoch 94/100\n",
      "10506/10506 [==============================] - 3s - loss: 0.1728 - acc: 0.9476     \n",
      "Epoch 95/100\n",
      "10506/10506 [==============================] - 3s - loss: 0.1736 - acc: 0.9476     \n",
      "Epoch 96/100\n",
      "10506/10506 [==============================] - 3s - loss: 0.1718 - acc: 0.9476     \n",
      "Epoch 97/100\n",
      "10506/10506 [==============================] - 3s - loss: 0.1739 - acc: 0.9476     \n",
      "Epoch 98/100\n",
      "10506/10506 [==============================] - 3s - loss: 0.1729 - acc: 0.9476     \n",
      "Epoch 99/100\n",
      "10506/10506 [==============================] - 3s - loss: 0.1715 - acc: 0.9476     \n",
      "Epoch 100/100\n",
      "10506/10506 [==============================] - 3s - loss: 0.1727 - acc: 0.9476     \n"
     ]
    },
    {
     "data": {
      "text/plain": [
       "<keras.callbacks.History at 0x145d12950>"
      ]
     },
     "execution_count": 531,
     "metadata": {},
     "output_type": "execute_result"
    }
   ],
   "source": [
    "from keras.models import Sequential\n",
    "from keras.layers import Dense\n",
    "import numpy\n",
    "\n",
    "model = Sequential()\n",
    "model.add(Dense(29, input_dim=29, init='uniform', activation='relu'))\n",
    "model.add(Dense(18, init='uniform', activation='relu'))\n",
    "model.add(Dense(9, init='uniform', activation='relu'))\n",
    "model.add(Dense(1, init='uniform', activation='sigmoid'))\n",
    "\n",
    "model.compile(loss='binary_crossentropy', optimizer='adam', metrics=['accuracy'])\n",
    "\n",
    "model.fit(xnp, ynp, nb_epoch=100, batch_size=10)"
   ]
  },
  {
   "cell_type": "code",
   "execution_count": 532,
   "metadata": {
    "collapsed": false
   },
   "outputs": [],
   "source": [
    "predict = model.predict(Xtst.values)\n",
    "Xtest['WnvPresent'] = predict\n",
    "#Xtest.rename(columns={'prediction':'WnvPresent'},inplace=True)\n",
    "Xtest[['Id','WnvPresent']].to_csv('kaggle_answers.csv', index=False)"
   ]
  },
  {
   "cell_type": "code",
   "execution_count": null,
   "metadata": {
    "collapsed": false
   },
   "outputs": [],
   "source": [
    "from geopy.distance import vincenty\n",
    "import numpy as np\n",
    "\n",
    "test_points = zip(train.Latitude,train.Longitude)\n",
    "\n",
    "for k,date in enumerate(spray.Date.unique()):\n",
    "    print 'On date', k, 'of', len(spray.Date.unique())\n",
    "    spray_points = zip(spray[spray.Date==date].Latitude,spray[spray.Date==date].Longitude)\n",
    "    matrix = [[0] * len(spray_points)] * len(test_points)\n",
    "\n",
    "    for i,x in enumerate(test_points):\n",
    "        if i%5000.0 == 0:\n",
    "            print 'On test point', i\n",
    "        for n,y in enumerate(spray_points):\n",
    "            matrix[i][n] = vincenty(x, y).miles\n",
    "\n",
    "    dist = [len([x for x in matrix[i] if x < 35]) for i in range(len(test_points))]\n",
    "    train[date] = dist\n",
    "    \n",
    "train.head()"
   ]
  }
 ],
 "metadata": {
  "anaconda-cloud": {},
  "kernelspec": {
   "display_name": "Python [dsi]",
   "language": "python",
   "name": "Python [dsi]"
  }
 },
 "nbformat": 4,
 "nbformat_minor": 0
}
