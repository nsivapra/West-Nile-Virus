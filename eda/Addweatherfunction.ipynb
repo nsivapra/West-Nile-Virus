{
 "cells": [
  {
   "cell_type": "code",
   "execution_count": 14,
   "metadata": {
    "collapsed": false
   },
   "outputs": [],
   "source": [
    "import pandas as pd\n",
    "import numpy as np\n",
    "from geopy.distance import vincenty\n",
    "import cPickle as pickle\n",
    "\n",
    "def get_merged_weather(csv_path):\n",
    "    clean_weather_path = '../assets/weather_clean.csv'\n",
    "    weather_df = pd.read_csv(clean_weather_path)\n",
    "    weather_df['Date'] = weather_df['Date'].map(lambda x : x.split(' ')[0]) \n",
    "    base_df = pd.read_csv(csv_path)\n",
    "\n",
    "    # From Kaggle description page:\n",
    "    # for the weather data, here are the GEO coordinates for the two stations (two airports)\n",
    "    # Station 1: CHICAGO O'HARE INTERNATIONAL AIRPORT Lat: 41.995 Lon: -87.933 Elev: 662 ft. above sea level\n",
    "    # Station 2: CHICAGO MIDWAY INTL ARPT Lat: 41.786 Lon: -87.752 Elev: 612 ft. above sea level\n",
    "    LAT1 = 41.995\n",
    "    LON1 = -87.933\n",
    "    LAT2 = 41.786\n",
    "    LON2 = -87.752\n",
    "    L1 = (LAT1,LON1)\n",
    "    L2 = (LAT2,LON2)\n",
    "\n",
    "\n",
    "    # looking only for these particular days (in training set)\n",
    "    training_days = base_df.Date.unique()\n",
    "    print 'unique days in training set', len(base_df.Date.unique())\n",
    "    print 'unique days in weather data',len(weather_df.Date.unique())\n",
    "\n",
    "    # only need weather data for the day that was recorded, subsetting for efficiency\n",
    "    weather_sub = weather_df[weather_df['Date'].isin(training_days)]\n",
    "    print 'total weather row count:', len(weather_df),' only relevant days:', len(weather_sub)\n",
    "\n",
    "\n",
    "\n",
    "    # adding the fields, \n",
    "    # initally taking the temperature of the closer airport. Don't expect the temperature\n",
    "    # to drastically change between the two airports. \n",
    "    # will use an apply function to add several columns, distance to each airport\n",
    "    # and the rough distance %\n",
    "    # and the closer airport (more dominant)\n",
    "\n",
    "    def makeAirportPct(x):\n",
    "        current = (x['Latitude'],x['Longitude']  )\n",
    "        dist_to_stat1 = vincenty(current,L1).miles\n",
    "        dist_to_stat2 = vincenty(current,L2).miles\n",
    "        denom = dist_to_stat1 + dist_to_stat2\n",
    "        x['STATION1DIST'] = dist_to_stat1\n",
    "        x['STATION2DIST'] = dist_to_stat2\n",
    "        x['STATION1PCT'] = dist_to_stat1 / denom\n",
    "        x['STATION2PCT'] = dist_to_stat2 / denom\n",
    "        if dist_to_stat1 < dist_to_stat2:\n",
    "            x['CLOSER_STATION'] = 1\n",
    "        else:\n",
    "            x['CLOSER_STATION'] = 2\n",
    "        return x\n",
    "    \n",
    "    print 'comparing locations to airports...'\n",
    "    base_df = base_df.apply(makeAirportPct,axis=1)\n",
    "    print 'assignments complete, preparing to merge in weather'\n",
    "    print 'pre-merge rows', base_df.shape\n",
    "\n",
    "    #lastly will merge the weather in, will match by DATE and STATION\n",
    "    merged_df = base_df.merge(weather_sub,how='left',left_on=['Date','CLOSER_STATION'], right_on=['Date','Station'])\n",
    "\n",
    "    print 'post-merge rows', merged_df.shape\n",
    "    \n",
    "    def create_month_features(df):\n",
    "        df['Date'] = pd.to_datetime(df['Date'])\n",
    "        df['Date'] = df['Date'].map(lambda x: x.month)\n",
    "        for i in range(1,13):\n",
    "            df[i] = 0\n",
    "        for ind, month in enumerate(df['Date']):\n",
    "            for i in range(1,13):\n",
    "                if i==month:\n",
    "                    df.ix[ind,i] = 1\n",
    "        return df\n",
    "    print 'finished adding month features', merged_df.shape\n",
    "    return create_month_features(merged_df)"
   ]
  },
  {
   "cell_type": "code",
   "execution_count": 17,
   "metadata": {
    "collapsed": false,
    "scrolled": true
   },
   "outputs": [
    {
     "name": "stdout",
     "output_type": "stream",
     "text": [
      "unique days in training set 95\n",
      "unique days in weather data 1472\n",
      "total weather row count: 2944  only relevant days: 190\n",
      "pre-merge rows (10506, 17)\n",
      "pre-merge rows (10506, 17)\n"
     ]
    }
   ],
   "source": [
    "train_df = get_merged_weather('../assets/train.csv')\n",
    "with open('../assets/train_w_weather.p','wb') as f:\n",
    "    pickle.dump(train_df,f)\n",
    "    \n"
   ]
  },
  {
   "cell_type": "code",
   "execution_count": null,
   "metadata": {
    "collapsed": false
   },
   "outputs": [
    {
     "name": "stdout",
     "output_type": "stream",
     "text": [
      "unique days in training set 95\n",
      "unique days in weather data 1472\n",
      "total weather row count: 2944  only relevant days: 190\n"
     ]
    }
   ],
   "source": [
    "test_df = get_merged_weather('../assets/test.csv')\n",
    "with open('../assets/test_w_weather.p','wb') as f:\n",
    "    pickle.dump(test_df,f)"
   ]
  },
  {
   "cell_type": "code",
   "execution_count": null,
   "metadata": {
    "collapsed": true
   },
   "outputs": [],
   "source": [
    "import pandas as pd\n",
    "import numpy as np\n",
    "from geopy.distance import vincenty\n",
    "import cPickle as pickle\n",
    "\n",
    "\n",
    "# importing all datasets\n",
    "weather_path = '../assets/weather.csv'\n",
    "clean_weather_path = '../assets/weather_clean.csv'\n",
    "spray_path = '../assets/spray.csv'\n",
    "train_path = '../assets/train.csv'\n",
    "weather_df = pd.read_csv(clean_weather_path)\n",
    "weather_df['Date'] = weather_df['Date'].map(lambda x : x.split(' ')[0]) \n",
    "spray_df = pd.read_csv(spray_path)\n",
    "train_df = pd.read_csv(train_path)\n",
    "\n",
    "# From Kaggle description page:\n",
    "# for the weather data, here are the GEO coordinates for the two stations (two airports)\n",
    "# Station 1: CHICAGO O'HARE INTERNATIONAL AIRPORT Lat: 41.995 Lon: -87.933 Elev: 662 ft. above sea level\n",
    "# Station 2: CHICAGO MIDWAY INTL ARPT Lat: 41.786 Lon: -87.752 Elev: 612 ft. above sea level\n",
    "LAT1 = 41.995\n",
    "LON1 = -87.933\n",
    "LAT2 = 41.786\n",
    "LON2 = -87.752\n",
    "L1 = (LAT1,LON1)\n",
    "L2 = (LAT2,LON2)\n",
    "\n",
    "\n",
    "# looking only for these particular days (in training set)\n",
    "training_days = train_df.Date.unique()\n",
    "print 'unique days in training set', len(train_df.Date.unique())\n",
    "print 'unique days in weather data',len(weather_df.Date.unique())\n",
    "\n",
    "# only need weather data for the day that was recorded, subsetting for efficiency\n",
    "weather_sub = weather_df[weather_df['Date'].isin(training_days)]\n",
    "print 'total weather row count:', len(weather_df),' only relevant days:', len(weather_sub)\n",
    "\n",
    "\n",
    "\n",
    "# adding the fields, \n",
    "# initally taking the temperature of the closer airport. Don't expect the temperature\n",
    "# to drastically change between the two airports. \n",
    "# will use an apply function to add several columns, distance to each airport\n",
    "# and the rough distance %\n",
    "# and the closer airport (more dominant)\n",
    "\n",
    "def makeAirportPct(x):\n",
    "    current = (x['Latitude'],x['Longitude']  )\n",
    "    dist_to_stat1 = vincenty(current,L1).miles\n",
    "    dist_to_stat2 = vincenty(current,L2).miles\n",
    "    denom = dist_to_stat1 + dist_to_stat2\n",
    "    x['STATION1DIST'] = dist_to_stat1\n",
    "    x['STATION2DIST'] = dist_to_stat2\n",
    "    x['STATION1PCT'] = dist_to_stat1 / denom\n",
    "    x['STATION2PCT'] = dist_to_stat2 / denom\n",
    "    if dist_to_stat1 < dist_to_stat2:\n",
    "        x['CLOSER_STATION'] = 1\n",
    "    else:\n",
    "        x['CLOSER_STATION'] = 2\n",
    "    return x\n",
    "\n",
    "train_df = train_df.apply(makeAirportPct,axis=1)\n",
    "\n",
    "print 'pre-merge rows', train_df.shape\n",
    "\n",
    "#lastly will merge the weather in, will match by DATE and STATION\n",
    "train_df = train_df.merge(weather_sub,how='left',left_on=['Date','CLOSER_STATION'], right_on=['Date','Station'])\n",
    "\n",
    "print 'pre-merge rows', train_df.shape"
   ]
  }
 ],
 "metadata": {
  "kernelspec": {
   "display_name": "Python [dsi]",
   "language": "python",
   "name": "Python [dsi]"
  },
  "language_info": {
   "codemirror_mode": {
    "name": "ipython",
    "version": 2
   },
   "file_extension": ".py",
   "mimetype": "text/x-python",
   "name": "python",
   "nbconvert_exporter": "python",
   "pygments_lexer": "ipython2",
   "version": "2.7.12"
  }
 },
 "nbformat": 4,
 "nbformat_minor": 1
}
