{
 "cells": [
  {
   "cell_type": "code",
   "execution_count": 1,
   "metadata": {
    "collapsed": true
   },
   "outputs": [],
   "source": [
    "import pandas as pd\n",
    "import numpy as np"
   ]
  },
  {
   "cell_type": "code",
   "execution_count": 2,
   "metadata": {
    "collapsed": true
   },
   "outputs": [],
   "source": [
    "weather = pd.read_csv('../assets/weather.csv')\n",
    "spray = pd.read_csv('../assets/spray.csv')\n",
    "train = pd.read_csv('../assets/train.csv')"
   ]
  },
  {
   "cell_type": "code",
   "execution_count": 3,
   "metadata": {
    "collapsed": false
   },
   "outputs": [
    {
     "name": "stdout",
     "output_type": "stream",
     "text": [
      "<class 'pandas.core.frame.DataFrame'>\n",
      "RangeIndex: 2944 entries, 0 to 2943\n",
      "Data columns (total 22 columns):\n",
      "Station        2944 non-null int64\n",
      "Date           2944 non-null object\n",
      "Tmax           2944 non-null int64\n",
      "Tmin           2944 non-null int64\n",
      "Tavg           2944 non-null object\n",
      "Depart         2944 non-null object\n",
      "DewPoint       2944 non-null int64\n",
      "WetBulb        2944 non-null object\n",
      "Heat           2944 non-null object\n",
      "Cool           2944 non-null object\n",
      "Sunrise        2944 non-null object\n",
      "Sunset         2944 non-null object\n",
      "CodeSum        2944 non-null object\n",
      "Depth          2944 non-null object\n",
      "Water1         2944 non-null object\n",
      "SnowFall       2944 non-null object\n",
      "PrecipTotal    2944 non-null object\n",
      "StnPressure    2944 non-null object\n",
      "SeaLevel       2944 non-null object\n",
      "ResultSpeed    2944 non-null float64\n",
      "ResultDir      2944 non-null int64\n",
      "AvgSpeed       2944 non-null object\n",
      "dtypes: float64(1), int64(5), object(16)\n",
      "memory usage: 506.1+ KB\n"
     ]
    }
   ],
   "source": [
    "weather.info()"
   ]
  },
  {
   "cell_type": "code",
   "execution_count": 4,
   "metadata": {
    "collapsed": false
   },
   "outputs": [],
   "source": [
    "#Convert weather Date to datetime\n",
    "\n",
    "from datetime import datetime\n",
    "listVal = []\n",
    "i = 0\n",
    "while i < len(weather['Date']):\n",
    "    date_str = weather['Date'][i]\n",
    "    dt_obj = datetime.strptime(date_str, '%Y-%m-%d')\n",
    "    listVal.append(dt_obj)\n",
    "    i+=1\n",
    "weather['Date'] = listVal"
   ]
  },
  {
   "cell_type": "code",
   "execution_count": 5,
   "metadata": {
    "collapsed": true
   },
   "outputs": [
    {
     "name": "stderr",
     "output_type": "stream",
     "text": [
      "/anaconda/envs/dsi/lib/python2.7/site-packages/ipykernel/__main__.py:5: SettingWithCopyWarning: \n",
      "A value is trying to be set on a copy of a slice from a DataFrame\n",
      "\n",
      "See the caveats in the documentation: http://pandas.pydata.org/pandas-docs/stable/indexing.html#indexing-view-versus-copy\n"
     ]
    }
   ],
   "source": [
    "#Tavg to float\n",
    "i = 0\n",
    "while i < len(weather['Tavg']):\n",
    "    if weather['Tavg'][i] == 'M':\n",
    "        weather['Tavg'][i] = 0\n",
    "    i+=1\n",
    "weather['Tavg'] = pd.to_numeric(weather['Tavg'])"
   ]
  },
  {
   "cell_type": "code",
   "execution_count": 6,
   "metadata": {
    "collapsed": true
   },
   "outputs": [
    {
     "name": "stderr",
     "output_type": "stream",
     "text": [
      "/anaconda/envs/dsi/lib/python2.7/site-packages/ipykernel/__main__.py:5: SettingWithCopyWarning: \n",
      "A value is trying to be set on a copy of a slice from a DataFrame\n",
      "\n",
      "See the caveats in the documentation: http://pandas.pydata.org/pandas-docs/stable/indexing.html#indexing-view-versus-copy\n"
     ]
    }
   ],
   "source": [
    "#Depart to int\n",
    "i = 0\n",
    "while i < len(weather['Depart']):\n",
    "    if weather['Depart'][i] == 'M':\n",
    "        weather['Depart'][i] = 0\n",
    "    i+=1\n",
    "weather['Depart'] = pd.to_numeric(weather['Depart'])"
   ]
  },
  {
   "cell_type": "code",
   "execution_count": 7,
   "metadata": {
    "collapsed": true
   },
   "outputs": [
    {
     "name": "stderr",
     "output_type": "stream",
     "text": [
      "/anaconda/envs/dsi/lib/python2.7/site-packages/ipykernel/__main__.py:5: SettingWithCopyWarning: \n",
      "A value is trying to be set on a copy of a slice from a DataFrame\n",
      "\n",
      "See the caveats in the documentation: http://pandas.pydata.org/pandas-docs/stable/indexing.html#indexing-view-versus-copy\n"
     ]
    }
   ],
   "source": [
    "#Wet bulb should be int\n",
    "i = 0\n",
    "while i < len(weather['WetBulb']):\n",
    "    if weather['WetBulb'][i] == 'M':\n",
    "        weather['WetBulb'][i] = 0\n",
    "    i+=1\n",
    "weather['WetBulb'] = pd.to_numeric(weather['WetBulb'])"
   ]
  },
  {
   "cell_type": "code",
   "execution_count": 8,
   "metadata": {
    "collapsed": true
   },
   "outputs": [
    {
     "name": "stderr",
     "output_type": "stream",
     "text": [
      "/anaconda/envs/dsi/lib/python2.7/site-packages/ipykernel/__main__.py:5: SettingWithCopyWarning: \n",
      "A value is trying to be set on a copy of a slice from a DataFrame\n",
      "\n",
      "See the caveats in the documentation: http://pandas.pydata.org/pandas-docs/stable/indexing.html#indexing-view-versus-copy\n"
     ]
    }
   ],
   "source": [
    "#Heat should be int\n",
    "i = 0\n",
    "while i < len(weather['Heat']):\n",
    "    if weather['Heat'][i] == 'M':\n",
    "        weather['Heat'][i] = 0\n",
    "    i+=1\n",
    "weather['Heat'] = pd.to_numeric(weather['Heat'])"
   ]
  },
  {
   "cell_type": "code",
   "execution_count": 9,
   "metadata": {
    "collapsed": true
   },
   "outputs": [
    {
     "name": "stderr",
     "output_type": "stream",
     "text": [
      "/anaconda/envs/dsi/lib/python2.7/site-packages/ipykernel/__main__.py:5: SettingWithCopyWarning: \n",
      "A value is trying to be set on a copy of a slice from a DataFrame\n",
      "\n",
      "See the caveats in the documentation: http://pandas.pydata.org/pandas-docs/stable/indexing.html#indexing-view-versus-copy\n"
     ]
    }
   ],
   "source": [
    "#Cool should be int\n",
    "i = 0\n",
    "while i < len(weather['Cool']):\n",
    "    if weather['Cool'][i] == 'M':\n",
    "        weather['Cool'][i] = 0\n",
    "    i+=1\n",
    "weather['Cool'] = pd.to_numeric(weather['Cool'])"
   ]
  },
  {
   "cell_type": "code",
   "execution_count": 10,
   "metadata": {
    "collapsed": false
   },
   "outputs": [],
   "source": [
    "#Sunset vs Sunrise look into the difference"
   ]
  },
  {
   "cell_type": "code",
   "execution_count": 11,
   "metadata": {
    "collapsed": true
   },
   "outputs": [
    {
     "name": "stderr",
     "output_type": "stream",
     "text": [
      "/anaconda/envs/dsi/lib/python2.7/site-packages/ipykernel/__main__.py:5: SettingWithCopyWarning: \n",
      "A value is trying to be set on a copy of a slice from a DataFrame\n",
      "\n",
      "See the caveats in the documentation: http://pandas.pydata.org/pandas-docs/stable/indexing.html#indexing-view-versus-copy\n"
     ]
    }
   ],
   "source": [
    "#Depth ?\n",
    "i = 0\n",
    "while i < len(weather['Depth']):\n",
    "    if weather['Depth'][i] == 'M':\n",
    "        weather['Depth'][i] = 0\n",
    "    i+=1\n",
    "weather['Depth'] = pd.to_numeric(weather['Depth'])"
   ]
  },
  {
   "cell_type": "code",
   "execution_count": 12,
   "metadata": {
    "collapsed": true
   },
   "outputs": [
    {
     "name": "stderr",
     "output_type": "stream",
     "text": [
      "/anaconda/envs/dsi/lib/python2.7/site-packages/ipykernel/__main__.py:5: SettingWithCopyWarning: \n",
      "A value is trying to be set on a copy of a slice from a DataFrame\n",
      "\n",
      "See the caveats in the documentation: http://pandas.pydata.org/pandas-docs/stable/indexing.html#indexing-view-versus-copy\n"
     ]
    }
   ],
   "source": [
    "#Stn Pressure float\n",
    "i = 0\n",
    "while i < len(weather['StnPressure']):\n",
    "    if weather['StnPressure'][i] == 'M':\n",
    "        weather['StnPressure'][i] = 0\n",
    "    i+=1\n",
    "weather['StnPressure'] = pd.to_numeric(weather['StnPressure'])"
   ]
  },
  {
   "cell_type": "code",
   "execution_count": 13,
   "metadata": {
    "collapsed": true
   },
   "outputs": [
    {
     "name": "stderr",
     "output_type": "stream",
     "text": [
      "/anaconda/envs/dsi/lib/python2.7/site-packages/ipykernel/__main__.py:5: SettingWithCopyWarning: \n",
      "A value is trying to be set on a copy of a slice from a DataFrame\n",
      "\n",
      "See the caveats in the documentation: http://pandas.pydata.org/pandas-docs/stable/indexing.html#indexing-view-versus-copy\n"
     ]
    }
   ],
   "source": [
    "#Sea Level Pressure should be float\n",
    "i = 0\n",
    "while i < len(weather['SeaLevel']):\n",
    "    if weather['SeaLevel'][i] == 'M':\n",
    "        weather['SeaLevel'][i] = 0\n",
    "    i+=1\n",
    "weather['SeaLevel'] = pd.to_numeric(weather['SeaLevel'])"
   ]
  },
  {
   "cell_type": "code",
   "execution_count": 14,
   "metadata": {
    "collapsed": true
   },
   "outputs": [
    {
     "name": "stderr",
     "output_type": "stream",
     "text": [
      "/anaconda/envs/dsi/lib/python2.7/site-packages/ipykernel/__main__.py:5: SettingWithCopyWarning: \n",
      "A value is trying to be set on a copy of a slice from a DataFrame\n",
      "\n",
      "See the caveats in the documentation: http://pandas.pydata.org/pandas-docs/stable/indexing.html#indexing-view-versus-copy\n"
     ]
    }
   ],
   "source": [
    "#Average Speed of the wind\n",
    "i = 0\n",
    "while i < len(weather['AvgSpeed']):\n",
    "    if weather['AvgSpeed'][i] == 'M':\n",
    "        weather['AvgSpeed'][i] = 0\n",
    "    i+=1\n",
    "weather['AvgSpeed'] = pd.to_numeric(weather['AvgSpeed'])"
   ]
  },
  {
   "cell_type": "code",
   "execution_count": 15,
   "metadata": {
    "collapsed": false
   },
   "outputs": [
    {
     "data": {
      "text/plain": [
       "array(['0.00', '  T', '0.13', '0.02', '0.38', '0.60', '0.14', '0.07',\n",
       "       '0.11', '0.09', '1.01', '0.28', '0.04', '0.08', '0.01', '0.53',\n",
       "       '0.19', '0.21', '0.32', '0.39', '0.31', '0.42', '0.27', '0.16',\n",
       "       '0.58', '0.93', '0.05', '0.34', '0.15', '0.35', 'M', '0.40', '0.66',\n",
       "       '0.30', '0.24', '0.43', '1.55', '0.92', '0.89', '0.17', '0.03',\n",
       "       '1.43', '0.97', '0.26', '1.31', '0.06', '0.46', '0.29', '0.23',\n",
       "       '0.41', '0.45', '0.83', '1.33', '0.91', '0.48', '0.37', '0.88',\n",
       "       '2.35', '1.96', '0.20', '0.25', '0.18', '0.67', '0.36', '0.33',\n",
       "       '1.28', '0.74', '0.76', '0.71', '0.95', '1.46', '0.12', '0.52',\n",
       "       '0.64', '0.22', '1.24', '0.72', '0.73', '0.65', '1.61', '1.22',\n",
       "       '0.50', '1.05', '2.43', '0.59', '2.90', '2.68', '1.23', '0.62',\n",
       "       '6.64', '3.07', '1.44', '1.75', '0.82', '0.80', '0.86', '0.63',\n",
       "       '0.55', '1.03', '0.70', '1.73', '1.38', '0.44', '1.14', '1.07',\n",
       "       '3.97', '0.87', '0.78', '1.12', '0.68', '0.10', '0.61', '0.54',\n",
       "       '1.19', '0.75', '0.84', '1.29', '0.81', '1.15', '1.49', '1.57',\n",
       "       '1.02', '1.30', '0.51', '0.85', '0.79', '0.77', '2.79', '3.15',\n",
       "       '3.64', '4.73', '1.60', '0.57', '2.24', '1.90', '1.06', '1.88',\n",
       "       '0.69', '2.17', '6.86', '0.49', '1.11', '1.21', '0.90', '1.34',\n",
       "       '0.47', '0.56', '3.66', '1.09', '1.25', '1.35', '2.20', '1.48',\n",
       "       '0.96', '1.16', '1.04', '2.03', '2.09', '1.26', '2.60', '2.06',\n",
       "       '3.31', '2.76', '1.82', '0.98', '1.58', '3.17', '1.18'], dtype=object)"
      ]
     },
     "execution_count": 15,
     "metadata": {},
     "output_type": "execute_result"
    }
   ],
   "source": [
    "weather['PrecipTotal'].unique()"
   ]
  },
  {
   "cell_type": "code",
   "execution_count": 16,
   "metadata": {
    "collapsed": true
   },
   "outputs": [
    {
     "name": "stderr",
     "output_type": "stream",
     "text": [
      "/anaconda/envs/dsi/lib/python2.7/site-packages/ipykernel/__main__.py:4: SettingWithCopyWarning: \n",
      "A value is trying to be set on a copy of a slice from a DataFrame\n",
      "\n",
      "See the caveats in the documentation: http://pandas.pydata.org/pandas-docs/stable/indexing.html#indexing-view-versus-copy\n"
     ]
    }
   ],
   "source": [
    "i = 0\n",
    "while i < len(weather['PrecipTotal']):\n",
    "    if weather['PrecipTotal'][i] == 'M' or weather['PrecipTotal'][i] == '  T':\n",
    "        weather['PrecipTotal'][i] = 0\n",
    "    i+=1\n",
    "weather['PrecipTotal'] = pd.to_numeric(weather['PrecipTotal'])"
   ]
  },
  {
   "cell_type": "code",
   "execution_count": 17,
   "metadata": {
    "collapsed": false
   },
   "outputs": [],
   "source": [
    "weather.drop('Water1', axis = 1, inplace = True)"
   ]
  },
  {
   "cell_type": "code",
   "execution_count": 18,
   "metadata": {
    "collapsed": true
   },
   "outputs": [
    {
     "name": "stderr",
     "output_type": "stream",
     "text": [
      "/anaconda/envs/dsi/lib/python2.7/site-packages/ipykernel/__main__.py:4: SettingWithCopyWarning: \n",
      "A value is trying to be set on a copy of a slice from a DataFrame\n",
      "\n",
      "See the caveats in the documentation: http://pandas.pydata.org/pandas-docs/stable/indexing.html#indexing-view-versus-copy\n"
     ]
    }
   ],
   "source": [
    "i = 0\n",
    "while i < len(weather['SnowFall']):\n",
    "    if weather['SnowFall'][i] == 'M' or weather['SnowFall'][i] == '  T':\n",
    "        weather['SnowFall'][i] = 0\n",
    "    i+=1\n",
    "weather['SnowFall'] = pd.to_numeric(weather['SnowFall'])"
   ]
  },
  {
   "cell_type": "code",
   "execution_count": 19,
   "metadata": {
    "collapsed": false
   },
   "outputs": [
    {
     "data": {
      "text/plain": [
       "Index([u'Station', u'Date', u'Tmax', u'Tmin', u'Tavg', u'Depart', u'DewPoint',\n",
       "       u'WetBulb', u'Heat', u'Cool', u'Sunrise', u'Sunset', u'CodeSum',\n",
       "       u'Depth', u'SnowFall', u'PrecipTotal', u'StnPressure', u'SeaLevel',\n",
       "       u'ResultSpeed', u'ResultDir', u'AvgSpeed'],\n",
       "      dtype='object')"
      ]
     },
     "execution_count": 19,
     "metadata": {},
     "output_type": "execute_result"
    }
   ],
   "source": [
    "weather.columns"
   ]
  },
  {
   "cell_type": "code",
   "execution_count": 20,
   "metadata": {
    "collapsed": true
   },
   "outputs": [
    {
     "name": "stderr",
     "output_type": "stream",
     "text": [
      "/anaconda/envs/dsi/lib/python2.7/site-packages/ipykernel/__main__.py:4: SettingWithCopyWarning: \n",
      "A value is trying to be set on a copy of a slice from a DataFrame\n",
      "\n",
      "See the caveats in the documentation: http://pandas.pydata.org/pandas-docs/stable/indexing.html#indexing-view-versus-copy\n"
     ]
    }
   ],
   "source": [
    "i = 0\n",
    "while i < len(weather['Sunrise']):\n",
    "    if weather['Sunrise'][i] == '-':\n",
    "        weather['Sunrise'][i] = '0000'\n",
    "    i+=1"
   ]
  },
  {
   "cell_type": "code",
   "execution_count": 21,
   "metadata": {
    "collapsed": false
   },
   "outputs": [],
   "source": [
    "import datetime\n",
    "i = 0\n",
    "listRise = []\n",
    "while i < len(weather['Sunrise']):\n",
    "    date_str = weather['Sunrise'][i]\n",
    "    val =  datetime.datetime.strptime(date_str, \"%H%M\")\n",
    "    listRise.append(val)\n",
    "    i+=1"
   ]
  },
  {
   "cell_type": "code",
   "execution_count": 22,
   "metadata": {
    "collapsed": true
   },
   "outputs": [
    {
     "name": "stderr",
     "output_type": "stream",
     "text": [
      "/anaconda/envs/dsi/lib/python2.7/site-packages/ipykernel/__main__.py:4: SettingWithCopyWarning: \n",
      "A value is trying to be set on a copy of a slice from a DataFrame\n",
      "\n",
      "See the caveats in the documentation: http://pandas.pydata.org/pandas-docs/stable/indexing.html#indexing-view-versus-copy\n"
     ]
    }
   ],
   "source": [
    "i = 0\n",
    "while i < len(weather['Sunset']):\n",
    "    if weather['Sunset'][i] == '-':\n",
    "        weather['Sunset'][i] = '0000'\n",
    "    i+=1"
   ]
  },
  {
   "cell_type": "code",
   "execution_count": 23,
   "metadata": {
    "collapsed": false
   },
   "outputs": [],
   "source": [
    "weather['SunsetVal'] = weather['Sunset']"
   ]
  },
  {
   "cell_type": "code",
   "execution_count": 24,
   "metadata": {
    "collapsed": true
   },
   "outputs": [],
   "source": [
    "weather['SunsetVal'] = pd.to_numeric(weather['SunsetVal'])"
   ]
  },
  {
   "cell_type": "code",
   "execution_count": 25,
   "metadata": {
    "collapsed": false
   },
   "outputs": [
    {
     "data": {
      "text/plain": [
       "1847.3478260869565"
      ]
     },
     "execution_count": 25,
     "metadata": {},
     "output_type": "execute_result"
    }
   ],
   "source": [
    "i = 0\n",
    "testVal = []\n",
    "while i < len(weather):\n",
    "    if weather['SunsetVal'][i] > 0:\n",
    "        testVal.append(weather['SunsetVal'][i])\n",
    "    i+=1\n",
    "np.mean(testVal)        "
   ]
  },
  {
   "cell_type": "code",
   "execution_count": 26,
   "metadata": {
    "collapsed": false
   },
   "outputs": [],
   "source": [
    "import datetime\n",
    "i = 0\n",
    "listSet = []\n",
    "while i < len(weather['Sunset']):\n",
    "    date_str = weather['Sunset'][i]\n",
    "    try:\n",
    "        val =  datetime.datetime.strptime(date_str, \"%H%M\")\n",
    "        listSet.append(val)\n",
    "    except:\n",
    "        val =  datetime.datetime.strptime('1847', \"%H%M\")\n",
    "        listSet.append(val)\n",
    "    i+=1"
   ]
  },
  {
   "cell_type": "code",
   "execution_count": 27,
   "metadata": {
    "collapsed": false
   },
   "outputs": [
    {
     "name": "stdout",
     "output_type": "stream",
     "text": [
      "2944\n",
      "2944\n",
      "2944\n",
      "2944\n"
     ]
    }
   ],
   "source": [
    "print len(weather['Sunset'])\n",
    "print len(weather['Sunrise'])\n",
    "print len(listSet)\n",
    "print len(listRise)"
   ]
  },
  {
   "cell_type": "code",
   "execution_count": 28,
   "metadata": {
    "collapsed": false
   },
   "outputs": [],
   "source": [
    "weather['Sunset'] = listSet\n",
    "weather['Sunrise'] = listRise"
   ]
  },
  {
   "cell_type": "code",
   "execution_count": 32,
   "metadata": {
    "collapsed": false
   },
   "outputs": [],
   "source": [
    "weather['Diff'] = (weather['Sunset'] - weather['Sunrise']).astype('timedelta64[h]')"
   ]
  },
  {
   "cell_type": "code",
   "execution_count": 37,
   "metadata": {
    "collapsed": false
   },
   "outputs": [
    {
     "name": "stdout",
     "output_type": "stream",
     "text": [
      "<class 'pandas.core.frame.DataFrame'>\n",
      "RangeIndex: 2944 entries, 0 to 2943\n",
      "Data columns (total 23 columns):\n",
      "Station        2944 non-null int64\n",
      "Date           2944 non-null datetime64[ns]\n",
      "Tmax           2944 non-null int64\n",
      "Tmin           2944 non-null int64\n",
      "Tavg           2944 non-null int64\n",
      "Depart         2944 non-null int64\n",
      "DewPoint       2944 non-null int64\n",
      "WetBulb        2944 non-null int64\n",
      "Heat           2944 non-null int64\n",
      "Cool           2944 non-null int64\n",
      "Sunrise        2944 non-null datetime64[ns]\n",
      "Sunset         2944 non-null datetime64[ns]\n",
      "CodeSum        2944 non-null object\n",
      "Depth          2944 non-null int64\n",
      "SnowFall       2944 non-null float64\n",
      "PrecipTotal    2944 non-null float64\n",
      "StnPressure    2944 non-null float64\n",
      "SeaLevel       2944 non-null float64\n",
      "ResultSpeed    2944 non-null float64\n",
      "ResultDir      2944 non-null int64\n",
      "AvgSpeed       2944 non-null float64\n",
      "SunsetVal      2944 non-null int64\n",
      "Diff           2944 non-null float64\n",
      "dtypes: datetime64[ns](3), float64(7), int64(12), object(1)\n",
      "memory usage: 529.1+ KB\n"
     ]
    }
   ],
   "source": [
    "weather.info()"
   ]
  },
  {
   "cell_type": "code",
   "execution_count": 33,
   "metadata": {
    "collapsed": false
   },
   "outputs": [],
   "source": [
    "train_clean = train.groupby('Date')['Longitude', 'Latitude'].mean()\n",
    "train_clean.reset_index(inplace = True)\n",
    "import itertools\n",
    "i = 0\n",
    "longFirst = []\n",
    "longSec = []\n",
    "latFirst = []\n",
    "latSec = []\n",
    "while i < len(train_clean) - 1:\n",
    "    longFirst.append(train_clean['Longitude'][i])\n",
    "    longSec.append(train_clean['Longitude'][i+1])\n",
    "    latFirst.append(train_clean['Latitude'][i])\n",
    "    latSec.append(train_clean['Latitude'][i+1])\n",
    "    i+=1\n",
    "longDist = list(itertools.product(longFirst, longSec))\n",
    "latDist = list(itertools.product(latFirst, latSec))\n",
    "i = 0\n",
    "finLong = []\n",
    "finLat = []\n",
    "while i < len(longDist):\n",
    "    finLong.append(longDist[i][1] - longDist[i][0])\n",
    "    finLat.append(latDist[i][1] - latDist[i][0])\n",
    "    i+=1"
   ]
  },
  {
   "cell_type": "code",
   "execution_count": 34,
   "metadata": {
    "collapsed": false
   },
   "outputs": [],
   "source": [
    "first = zip(longFirst, latFirst)\n",
    "second = zip(longSec, latSec)\n",
    "diff = zip(finLong, finLat)"
   ]
  },
  {
   "cell_type": "code",
   "execution_count": 35,
   "metadata": {
    "collapsed": false
   },
   "outputs": [
    {
     "data": {
      "text/plain": [
       "[(-87.696170320000007, 41.876884400000002),\n",
       " (-87.716228000000001, 41.882557116666661),\n",
       " (-87.719495599999988, 41.894082185714282)]"
      ]
     },
     "execution_count": 35,
     "metadata": {},
     "output_type": "execute_result"
    }
   ],
   "source": [
    "first[0:3]"
   ]
  },
  {
   "cell_type": "code",
   "execution_count": 36,
   "metadata": {
    "collapsed": false
   },
   "outputs": [
    {
     "data": {
      "text/plain": [
       "[(-0.020057679999993638, 0.0056727166666590279),\n",
       " (-0.023325279999980353, 0.017197785714280656),\n",
       " (-0.017826266956490144, 0.0078277739130498958)]"
      ]
     },
     "execution_count": 36,
     "metadata": {},
     "output_type": "execute_result"
    }
   ],
   "source": [
    "diff[0:3]"
   ]
  }
 ],
 "metadata": {
  "anaconda-cloud": {},
  "kernelspec": {
   "display_name": "Python [dsi]",
   "language": "python",
   "name": "Python [dsi]"
  },
  "language_info": {
   "codemirror_mode": {
    "name": "ipython",
    "version": 2
   },
   "file_extension": ".py",
   "mimetype": "text/x-python",
   "name": "python",
   "nbconvert_exporter": "python",
   "pygments_lexer": "ipython2",
   "version": "2.7.12"
  }
 },
 "nbformat": 4,
 "nbformat_minor": 0
}
